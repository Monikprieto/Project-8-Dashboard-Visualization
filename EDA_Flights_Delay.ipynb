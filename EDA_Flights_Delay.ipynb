{
 "cells": [
  {
   "cell_type": "markdown",
   "id": "e80044c4-c55e-4b67-98bc-405ce322c4a5",
   "metadata": {},
   "source": [
    "EDA_Flights_Delay"
   ]
  },
  {
   "cell_type": "markdown",
   "id": "66dba08e-d7be-4cd8-aac8-2eb723787ccc",
   "metadata": {},
   "source": [
    "Import libraries"
   ]
  },
  {
   "cell_type": "code",
   "execution_count": 15,
   "id": "45b1d4fe-958a-4a2c-8846-1529d8c3a0e3",
   "metadata": {},
   "outputs": [],
   "source": [
    "import pandas as pd"
   ]
  },
  {
   "cell_type": "markdown",
   "id": "dacd5e74-f322-40a6-8843-fca61a5efd1a",
   "metadata": {},
   "source": [
    "Load BD "
   ]
  },
  {
   "cell_type": "code",
   "execution_count": 16,
   "id": "3fc4c17c-60f4-43f9-948f-f8f12fd6e8e2",
   "metadata": {},
   "outputs": [],
   "source": [
    "file_path = 'Airline_Delay_Cause.csv'\n",
    "df = pd.read_csv(file_path)"
   ]
  },
  {
   "cell_type": "markdown",
   "id": "5cd35ad2-bc2f-4515-8be1-40071da4a2c4",
   "metadata": {},
   "source": [
    "Review Null values"
   ]
  },
  {
   "cell_type": "markdown",
   "id": "7fed6e12-2434-4232-9091-92068cf2a1bc",
   "metadata": {},
   "source": [
    "Info Columns"
   ]
  },
  {
   "cell_type": "code",
   "execution_count": 17,
   "id": "b2ba0240-9de6-4b2b-9055-9c08c6ec8fe8",
   "metadata": {},
   "outputs": [
    {
     "data": {
      "text/plain": [
       "Index(['year', 'month', 'carrier', 'carrier_name', 'airport', 'airport_name',\n",
       "       'arr_flights', 'arr_del15', 'carrier_ct', 'weather_ct', 'nas_ct',\n",
       "       'security_ct', 'late_aircraft_ct', 'arr_cancelled', 'arr_diverted',\n",
       "       'arr_delay', 'carrier_delay', 'weather_delay', 'nas_delay',\n",
       "       'security_delay', 'late_aircraft_delay'],\n",
       "      dtype='object')"
      ]
     },
     "execution_count": 17,
     "metadata": {},
     "output_type": "execute_result"
    }
   ],
   "source": [
    "df.columns"
   ]
  },
  {
   "cell_type": "code",
   "execution_count": 18,
   "id": "c2bdb8a4-348e-4b5b-bb27-147842966512",
   "metadata": {},
   "outputs": [],
   "source": [
    "missing_values = df.isnull().sum().sort_values(ascending=False)\n",
    "critical_columns = missing_values[missing_values > 0].index.tolist()"
   ]
  },
  {
   "cell_type": "markdown",
   "id": "38fbf173-8a87-493c-8fe9-52bffb6826a4",
   "metadata": {},
   "source": [
    "Identify rows with more than 50% null values ​​in critical columns"
   ]
  },
  {
   "cell_type": "code",
   "execution_count": 19,
   "id": "1d6c7481-140f-4bb3-a759-d3dbe3ec09fa",
   "metadata": {},
   "outputs": [],
   "source": [
    "threshold = int(len(critical_columns) * 0.5)\n",
    "rows_with_many_nulls = df[critical_columns].isnull().sum(axis=1) > threshold"
   ]
  },
  {
   "cell_type": "markdown",
   "id": "7400959c-b2f1-44aa-93d5-593fb8528e74",
   "metadata": {},
   "source": [
    "Deleting rows with too many null values"
   ]
  },
  {
   "cell_type": "code",
   "execution_count": 20,
   "id": "768eb440-bd68-47df-a753-050ce496ba5d",
   "metadata": {},
   "outputs": [],
   "source": [
    "df_cleaned = df[~rows_with_many_nulls].copy()"
   ]
  },
  {
   "cell_type": "markdown",
   "id": "bd9762a9-0a09-4a5a-8b26-3a57729ff7da",
   "metadata": {},
   "source": [
    "Fill remaining null values ​​in 'arr_del15' with 0"
   ]
  },
  {
   "cell_type": "code",
   "execution_count": 21,
   "id": "a413f540-4307-4ef8-b673-a09cd0ff517a",
   "metadata": {},
   "outputs": [],
   "source": [
    "df_cleaned['arr_del15'] = df_cleaned['arr_del15'].fillna(0)"
   ]
  },
  {
   "cell_type": "markdown",
   "id": "b31600c3-875f-412e-bf9d-2bd907081558",
   "metadata": {},
   "source": [
    "Check that null values ​​no longer exist"
   ]
  },
  {
   "cell_type": "code",
   "execution_count": 22,
   "id": "27857822-9f13-4b6a-9b52-343180cc1bd0",
   "metadata": {},
   "outputs": [],
   "source": [
    "assert df_cleaned.isnull().sum().sum() == 0, \"Null values still exist\""
   ]
  },
  {
   "cell_type": "markdown",
   "id": "5926796f-3fa0-417d-a5ce-b9db2e470591",
   "metadata": {},
   "source": [
    "Save the clean database to a new CSV file"
   ]
  },
  {
   "cell_type": "code",
   "execution_count": 23,
   "id": "77eb99ba-9583-48e2-a0cb-d6a8935b01ca",
   "metadata": {},
   "outputs": [],
   "source": [
    "df_cleaned.to_csv('Airline_Delay_Cause_CLEAN.csv', index=False)"
   ]
  },
  {
   "cell_type": "code",
   "execution_count": null,
   "id": "abb77e5e-e47e-410b-b3b6-9bbe353d6489",
   "metadata": {},
   "outputs": [],
   "source": []
  }
 ],
 "metadata": {
  "kernelspec": {
   "display_name": "Python 3.12",
   "language": "python",
   "name": "python312"
  },
  "language_info": {
   "codemirror_mode": {
    "name": "ipython",
    "version": 3
   },
   "file_extension": ".py",
   "mimetype": "text/x-python",
   "name": "python",
   "nbconvert_exporter": "python",
   "pygments_lexer": "ipython3",
   "version": "3.12.9"
  }
 },
 "nbformat": 4,
 "nbformat_minor": 5
}
